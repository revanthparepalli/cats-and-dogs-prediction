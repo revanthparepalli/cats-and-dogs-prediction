{
 "cells": [
  {
   "cell_type": "markdown",
   "metadata": {},
   "source": [
    "### 0. Building CNN for cat and dog classification"
   ]
  },
  {
   "cell_type": "markdown",
   "metadata": {},
   "source": [
    "### 1. Import library"
   ]
  },
  {
   "cell_type": "code",
   "execution_count": 1,
   "metadata": {},
   "outputs": [],
   "source": [
    "import warnings\n",
    "warnings.simplefilter(action='ignore', category=FutureWarning)"
   ]
  },
  {
   "cell_type": "code",
   "execution_count": 2,
   "metadata": {},
   "outputs": [
    {
     "name": "stderr",
     "output_type": "stream",
     "text": [
      "Using TensorFlow backend.\n"
     ]
    }
   ],
   "source": [
    "# Importing the Keras libraries and packages\n",
    "from keras.models import Sequential\n",
    "from keras.layers import Conv2D\n",
    "from keras.layers import MaxPooling2D\n",
    "from keras.layers import Flatten\n",
    "from keras.layers import Dense\n",
    "from keras.preprocessing.image import ImageDataGenerator"
   ]
  },
  {
   "cell_type": "markdown",
   "metadata": {},
   "source": [
    "### 2. Model create"
   ]
  },
  {
   "cell_type": "markdown",
   "metadata": {},
   "source": [
    "- Initialising the CNN\n",
    "- Convolution  \n",
    "- Pooling  \n",
    "- Convolution  \n",
    "- Pooling  \n",
    "- Flattening  \n",
    "- Full connection  "
   ]
  },
  {
   "cell_type": "code",
   "execution_count": 3,
   "metadata": {},
   "outputs": [
    {
     "name": "stdout",
     "output_type": "stream",
     "text": [
      "WARNING:tensorflow:From C:\\Users\\kx764qe\\AppData\\Local\\Continuum\\anaconda3\\envs\\courses\\lib\\site-packages\\keras\\backend\\tensorflow_backend.py:74: The name tf.get_default_graph is deprecated. Please use tf.compat.v1.get_default_graph instead.\n",
      "\n",
      "WARNING:tensorflow:From C:\\Users\\kx764qe\\AppData\\Local\\Continuum\\anaconda3\\envs\\courses\\lib\\site-packages\\keras\\backend\\tensorflow_backend.py:517: The name tf.placeholder is deprecated. Please use tf.compat.v1.placeholder instead.\n",
      "\n",
      "WARNING:tensorflow:From C:\\Users\\kx764qe\\AppData\\Local\\Continuum\\anaconda3\\envs\\courses\\lib\\site-packages\\keras\\backend\\tensorflow_backend.py:4138: The name tf.random_uniform is deprecated. Please use tf.random.uniform instead.\n",
      "\n",
      "WARNING:tensorflow:From C:\\Users\\kx764qe\\AppData\\Local\\Continuum\\anaconda3\\envs\\courses\\lib\\site-packages\\keras\\backend\\tensorflow_backend.py:3976: The name tf.nn.max_pool is deprecated. Please use tf.nn.max_pool2d instead.\n",
      "\n"
     ]
    }
   ],
   "source": [
    "classifier = Sequential()\n",
    "classifier.add(Conv2D(32, (3, 3), input_shape = (64, 64, 3), activation = 'relu'))\n",
    "classifier.add(MaxPooling2D(pool_size = (2, 2)))\n",
    "classifier.add(Conv2D(32, (3, 3), activation = 'relu'))\n",
    "classifier.add(MaxPooling2D(pool_size = (2, 2)))\n",
    "classifier.add(Flatten())\n",
    "classifier.add(Dense(units = 128, activation = 'relu'))\n",
    "classifier.add(Dense(units = 1, activation = 'sigmoid'))"
   ]
  },
  {
   "cell_type": "markdown",
   "metadata": {},
   "source": [
    "### 3. Modell compile\n"
   ]
  },
  {
   "cell_type": "code",
   "execution_count": 4,
   "metadata": {},
   "outputs": [
    {
     "name": "stdout",
     "output_type": "stream",
     "text": [
      "WARNING:tensorflow:From C:\\Users\\kx764qe\\AppData\\Local\\Continuum\\anaconda3\\envs\\courses\\lib\\site-packages\\keras\\optimizers.py:790: The name tf.train.Optimizer is deprecated. Please use tf.compat.v1.train.Optimizer instead.\n",
      "\n",
      "WARNING:tensorflow:From C:\\Users\\kx764qe\\AppData\\Local\\Continuum\\anaconda3\\envs\\courses\\lib\\site-packages\\keras\\backend\\tensorflow_backend.py:3376: The name tf.log is deprecated. Please use tf.math.log instead.\n",
      "\n",
      "WARNING:tensorflow:From C:\\Users\\kx764qe\\AppData\\Local\\Continuum\\anaconda3\\envs\\courses\\lib\\site-packages\\tensorflow\\python\\ops\\nn_impl.py:180: add_dispatch_support.<locals>.wrapper (from tensorflow.python.ops.array_ops) is deprecated and will be removed in a future version.\n",
      "Instructions for updating:\n",
      "Use tf.where in 2.0, which has the same broadcast rule as np.where\n"
     ]
    }
   ],
   "source": [
    "classifier.compile(optimizer = 'adam', loss = 'binary_crossentropy', metrics = ['accuracy'])"
   ]
  },
  {
   "cell_type": "markdown",
   "metadata": {},
   "source": [
    "### 4. Image augmentation & Model fit"
   ]
  },
  {
   "cell_type": "code",
   "execution_count": 5,
   "metadata": {},
   "outputs": [
    {
     "name": "stdout",
     "output_type": "stream",
     "text": [
      "Found 8000 images belonging to 2 classes.\n",
      "Found 2000 images belonging to 2 classes.\n",
      "WARNING:tensorflow:From C:\\Users\\kx764qe\\AppData\\Local\\Continuum\\anaconda3\\envs\\courses\\lib\\site-packages\\keras\\backend\\tensorflow_backend.py:986: The name tf.assign_add is deprecated. Please use tf.compat.v1.assign_add instead.\n",
      "\n",
      "Epoch 1/25\n",
      "250/250 [==============================] - 85s 338ms/step - loss: 0.6730 - acc: 0.5855 - val_loss: 0.6285 - val_acc: 0.6530\n",
      "Epoch 2/25\n",
      "250/250 [==============================] - 79s 318ms/step - loss: 0.6191 - acc: 0.6558 - val_loss: 0.5775 - val_acc: 0.6975\n",
      "Epoch 3/25\n",
      "250/250 [==============================] - 78s 310ms/step - loss: 0.5600 - acc: 0.7185 - val_loss: 0.5465 - val_acc: 0.7245\n",
      "Epoch 4/25\n",
      "250/250 [==============================] - 67s 268ms/step - loss: 0.5324 - acc: 0.7295 - val_loss: 0.5300 - val_acc: 0.7375\n",
      "Epoch 5/25\n",
      "250/250 [==============================] - 53s 213ms/step - loss: 0.5089 - acc: 0.7490 - val_loss: 0.4853 - val_acc: 0.7750\n",
      "Epoch 6/25\n",
      "250/250 [==============================] - 65s 261ms/step - loss: 0.4900 - acc: 0.7600 - val_loss: 0.5039 - val_acc: 0.7605\n",
      "Epoch 7/25\n",
      "250/250 [==============================] - 70s 282ms/step - loss: 0.4668 - acc: 0.7808 - val_loss: 0.4916 - val_acc: 0.7675\n",
      "Epoch 8/25\n",
      "250/250 [==============================] - 57s 228ms/step - loss: 0.4493 - acc: 0.7851 - val_loss: 0.4827 - val_acc: 0.7760\n",
      "Epoch 9/25\n",
      "250/250 [==============================] - 60s 241ms/step - loss: 0.4500 - acc: 0.7806 - val_loss: 0.5121 - val_acc: 0.7720\n",
      "Epoch 10/25\n",
      "250/250 [==============================] - 65s 262ms/step - loss: 0.4198 - acc: 0.8030 - val_loss: 0.4444 - val_acc: 0.8000\n",
      "Epoch 11/25\n",
      "250/250 [==============================] - 68s 272ms/step - loss: 0.4088 - acc: 0.8082 - val_loss: 0.4909 - val_acc: 0.7810\n",
      "Epoch 12/25\n",
      "250/250 [==============================] - 93s 370ms/step - loss: 0.3929 - acc: 0.8200 - val_loss: 0.5276 - val_acc: 0.7855\n",
      "Epoch 13/25\n",
      "250/250 [==============================] - 69s 276ms/step - loss: 0.3734 - acc: 0.8315 - val_loss: 0.4674 - val_acc: 0.7920\n",
      "Epoch 14/25\n",
      "250/250 [==============================] - 87s 348ms/step - loss: 0.3613 - acc: 0.8379 - val_loss: 0.5226 - val_acc: 0.7755\n",
      "Epoch 15/25\n",
      "250/250 [==============================] - 88s 353ms/step - loss: 0.3471 - acc: 0.8466 - val_loss: 0.4714 - val_acc: 0.7925\n",
      "Epoch 16/25\n",
      "250/250 [==============================] - 82s 328ms/step - loss: 0.3293 - acc: 0.8559 - val_loss: 0.4767 - val_acc: 0.8030\n",
      "Epoch 17/25\n",
      "250/250 [==============================] - 79s 317ms/step - loss: 0.3111 - acc: 0.8635 - val_loss: 0.5175 - val_acc: 0.7980\n",
      "Epoch 18/25\n",
      "250/250 [==============================] - 86s 344ms/step - loss: 0.3105 - acc: 0.8616 - val_loss: 0.4773 - val_acc: 0.8075\n",
      "Epoch 19/25\n",
      "250/250 [==============================] - 88s 352ms/step - loss: 0.2784 - acc: 0.8853 - val_loss: 0.4874 - val_acc: 0.8065\n",
      "Epoch 20/25\n",
      "250/250 [==============================] - 75s 302ms/step - loss: 0.2784 - acc: 0.8812 - val_loss: 0.4868 - val_acc: 0.8150\n",
      "Epoch 21/25\n",
      "250/250 [==============================] - 83s 334ms/step - loss: 0.2495 - acc: 0.8946 - val_loss: 0.5961 - val_acc: 0.7715\n",
      "Epoch 22/25\n",
      "250/250 [==============================] - 89s 357ms/step - loss: 0.2372 - acc: 0.8999 - val_loss: 0.6544 - val_acc: 0.7625\n",
      "Epoch 23/25\n",
      "250/250 [==============================] - 82s 326ms/step - loss: 0.2285 - acc: 0.9030 - val_loss: 0.5287 - val_acc: 0.8020\n",
      "Epoch 24/25\n",
      "250/250 [==============================] - 64s 257ms/step - loss: 0.2227 - acc: 0.9079 - val_loss: 0.6640 - val_acc: 0.7605\n",
      "Epoch 25/25\n",
      "250/250 [==============================] - 54s 216ms/step - loss: 0.2141 - acc: 0.9131 - val_loss: 0.5942 - val_acc: 0.7735\n"
     ]
    },
    {
     "data": {
      "text/plain": [
       "<keras.callbacks.History at 0x1ae09831cc0>"
      ]
     },
     "execution_count": 5,
     "metadata": {},
     "output_type": "execute_result"
    }
   ],
   "source": [
    "##create an object of ImageDataGenerator, for augmenting train set\n",
    "train_datagen = ImageDataGenerator(rescale = 1./255,\n",
    "                                   shear_range = 0.2,\n",
    "                                   zoom_range = 0.2,\n",
    "                                   horizontal_flip = True)\n",
    "\n",
    "\n",
    "##create another object of ImageDataGenerator, for augmenting test set\n",
    "test_datagen = ImageDataGenerator(rescale = 1./255)\n",
    "\n",
    "##apply image augmentation on train set by resizing all images to 64x64 and creating batches of 32 images.\n",
    "training_set = train_datagen.flow_from_directory('dataset/training_set',\n",
    "                                                 target_size = (64, 64),\n",
    "                                                 batch_size = 32,\n",
    "                                                 class_mode = 'binary')\n",
    "\n",
    "##apply image augmentation on test set by resizing all images to 64x64 and creating batches of 32 images.\n",
    "test_set = test_datagen.flow_from_directory('dataset/test_set',\n",
    "                                            target_size = (64, 64),\n",
    "                                            batch_size = 32,\n",
    "                                            class_mode = 'binary')\n",
    "\n",
    "classifier.fit_generator(training_set,\n",
    "                         steps_per_epoch = (8000/32),\n",
    "                         epochs = 25,\n",
    "                         validation_data = test_set,\n",
    "                         validation_steps = (2000/32))\n"
   ]
  },
  {
   "cell_type": "code",
   "execution_count": null,
   "metadata": {},
   "outputs": [],
   "source": []
  }
 ],
 "metadata": {
  "kernelspec": {
   "display_name": "Python 3",
   "language": "python",
   "name": "python3"
  },
  "language_info": {
   "codemirror_mode": {
    "name": "ipython",
    "version": 3
   },
   "file_extension": ".py",
   "mimetype": "text/x-python",
   "name": "python",
   "nbconvert_exporter": "python",
   "pygments_lexer": "ipython3",
   "version": "3.7.3"
  }
 },
 "nbformat": 4,
 "nbformat_minor": 4
}
